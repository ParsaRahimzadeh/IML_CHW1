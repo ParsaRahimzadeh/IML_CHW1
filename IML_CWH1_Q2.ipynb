{
  "cells": [
    {
      "cell_type": "markdown",
      "metadata": {
        "id": "view-in-github",
        "colab_type": "text"
      },
      "source": [
        "<a href=\"https://colab.research.google.com/github/ParsaRahimzadeh/IML_CHW1/blob/main/IML_CWH1_Q2.ipynb\" target=\"_parent\"><img src=\"https://colab.research.google.com/assets/colab-badge.svg\" alt=\"Open In Colab\"/></a>"
      ]
    },
    {
      "cell_type": "markdown",
      "metadata": {
        "id": "9CFNN5Ms51un"
      },
      "source": [
        "<h1 align=\"center\">An Introduction to Machine Learning - 25737</h1>\n",
        "<h4 align=\"center\">Dr. Sajjad Amini</h4>\n",
        "<h4 align=\"center\">Sharif University of Technology, Spring 2023</h4>\n",
        "\n",
        "# Problem Set 02\n",
        "\n",
        "Welcome to your second assignment. This exercise gives you a brief introduction to Python. \n"
      ]
    },
    {
      "cell_type": "markdown",
      "metadata": {
        "id": "otVWavun6BLM"
      },
      "source": [
        "STUDENT NAME: Parsa Rahimzadeh \n",
        "\n",
        "STUDENT ID:"
      ]
    },
    {
      "cell_type": "markdown",
      "metadata": {
        "id": "ZmfUgXgE51uo"
      },
      "source": [
        "## Import \n",
        ">Put all of your imports for this file in the below cell."
      ]
    },
    {
      "cell_type": "code",
      "execution_count": null,
      "metadata": {
        "id": "PKyVIvPF51uo"
      },
      "outputs": [],
      "source": [
        "### START CODE HERE ###\n",
        "import numpy as np\n",
        "### END CODE HERE ###"
      ]
    },
    {
      "cell_type": "markdown",
      "metadata": {
        "id": "TK-ZIy9Z51up"
      },
      "source": [
        "# Question 1"
      ]
    },
    {
      "cell_type": "markdown",
      "metadata": {
        "id": "xATpgtcD51up"
      },
      "source": [
        "## Array creation\n",
        ">Create the followings to numpy array:\n",
        "* A: a 3\\*3 array like this:\n",
        "$$\n",
        "A = \\left(\\begin{array}{cc} \n",
        "10 & 20 & 30\\\\\n",
        "5 & 10 & 15\\\\\n",
        "1 & 5 & 8\n",
        "\\end{array}\\right)\n",
        "$$ \n",
        "* B: a 3\\*3\\*4 that filled with the numbers start from 15 and have steps of 5 to the end. The array should be filled first along the first dimension then the second dimension and at last the third dimension. like this:\n",
        "$$\n",
        "B[:, :, 0] = \\left(\\begin{array}{cc} \n",
        "15 & 30 & 45\\\\\n",
        "20 & 35 & 50\\\\\n",
        "25 & 40 & 55\n",
        "\\end{array}\\right)\n",
        "$$ "
      ]
    },
    {
      "cell_type": "code",
      "execution_count": null,
      "metadata": {
        "id": "TjIs628Y51up",
        "outputId": "a5783baa-0ec2-4817-a3a9-ada6c483a147"
      },
      "outputs": [
        {
          "name": "stdout",
          "output_type": "stream",
          "text": [
            "A = \n",
            "[[10 20 30]\n",
            " [ 5 10 15]\n",
            " [ 1  5  8]]\n",
            "B[:,:,0] = \n",
            "[[15. 30. 45.]\n",
            " [20. 35. 50.]\n",
            " [25. 40. 55.]]\n",
            "B[:,:,1] = \n",
            "[[ 60.  75.  90.]\n",
            " [ 65.  80.  95.]\n",
            " [ 70.  85. 100.]]\n",
            "B[:,:,2] = \n",
            "[[105. 120. 135.]\n",
            " [110. 125. 140.]\n",
            " [115. 130. 145.]]\n",
            "B[:,:,3] = \n",
            "[[150. 165. 180.]\n",
            " [155. 170. 185.]\n",
            " [160. 175. 190.]]\n"
          ]
        }
      ],
      "source": [
        "### START CODE HERE ###\n",
        "A = np.array([[10, 20, 30],\n",
        "              [5, 10, 15],\n",
        "              [1, 5, 8]])\n",
        "print(\"A = \")\n",
        "print(A)\n",
        "\n",
        "B = np.zeros((3,3,4))\n",
        "starter = 15\n",
        "for i in range(4):\n",
        "    for col in range(3):\n",
        "        for row in range(3):\n",
        "            B[row,col,i] = starter\n",
        "            starter += 5\n",
        "print(\"B[:,:,0] = \")\n",
        "print(B[:,:,0])\n",
        "print(\"B[:,:,1] = \")\n",
        "print(B[:,:,1])\n",
        "print(\"B[:,:,2] = \")\n",
        "print(B[:,:,2])\n",
        "print(\"B[:,:,3] = \")\n",
        "print(B[:,:,3])\n",
        "### END CODE HERE ###"
      ]
    },
    {
      "cell_type": "markdown",
      "metadata": {
        "id": "FnkUQTNY51up"
      },
      "source": [
        "## Replacement\n",
        ">Replace the last slice of array B (B[:, :, 3]) with values of A. Then print the result."
      ]
    },
    {
      "cell_type": "code",
      "execution_count": null,
      "metadata": {
        "id": "P8VC57_o51uq",
        "outputId": "72fc7f57-50ca-4610-efec-11ecb98a5f58"
      },
      "outputs": [
        {
          "name": "stdout",
          "output_type": "stream",
          "text": [
            "B[:,:,0] = \n",
            "[[15. 30. 45.]\n",
            " [20. 35. 50.]\n",
            " [25. 40. 55.]]\n",
            "B[:,:,1] = \n",
            "[[ 60.  75.  90.]\n",
            " [ 65.  80.  95.]\n",
            " [ 70.  85. 100.]]\n",
            "B[:,:,2] = \n",
            "[[105. 120. 135.]\n",
            " [110. 125. 140.]\n",
            " [115. 130. 145.]]\n",
            "B[:,:,3] = \n",
            "[[10. 20. 30.]\n",
            " [ 5. 10. 15.]\n",
            " [ 1.  5.  8.]]\n"
          ]
        }
      ],
      "source": [
        "### START CODE HERE ###\n",
        "B[:,:,3] = A\n",
        "print(\"B[:,:,0] = \")\n",
        "print(B[:,:,0])\n",
        "print(\"B[:,:,1] = \")\n",
        "print(B[:,:,1])\n",
        "print(\"B[:,:,2] = \")\n",
        "print(B[:,:,2])\n",
        "print(\"B[:,:,3] = \")\n",
        "print(B[:,:,3])\n",
        "### END CODE HERE ###"
      ]
    },
    {
      "cell_type": "markdown",
      "metadata": {
        "id": "nZs4P5AZ51uq"
      },
      "source": [
        "## Axis Swap \n",
        ">Swap the first(B[:, :, 0]) and last(B[:, :, 3]) slice of the array B **only with one line of code**. Then print the result."
      ]
    },
    {
      "cell_type": "code",
      "execution_count": null,
      "metadata": {
        "id": "WmS33bBl51uq",
        "outputId": "8879573f-12c7-45d4-f021-2778f405d7b9"
      },
      "outputs": [
        {
          "name": "stdout",
          "output_type": "stream",
          "text": [
            "B[:,:,0] = \n",
            "[[10. 20. 30.]\n",
            " [ 5. 10. 15.]\n",
            " [ 1.  5.  8.]]\n",
            "B[:,:,1] = \n",
            "[[ 60.  75.  90.]\n",
            " [ 65.  80.  95.]\n",
            " [ 70.  85. 100.]]\n",
            "B[:,:,2] = \n",
            "[[105. 120. 135.]\n",
            " [110. 125. 140.]\n",
            " [115. 130. 145.]]\n",
            "B[:,:,3] = \n",
            "[[15. 30. 45.]\n",
            " [20. 35. 50.]\n",
            " [25. 40. 55.]]\n"
          ]
        }
      ],
      "source": [
        "### START CODE HERE ###\n",
        "B[:,:,[0, 3]] = B[:,:,[3, 0]]\n",
        "print(\"B[:,:,0] = \")\n",
        "print(B[:,:,0])\n",
        "print(\"B[:,:,1] = \")\n",
        "print(B[:,:,1])\n",
        "print(\"B[:,:,2] = \")\n",
        "print(B[:,:,2])\n",
        "print(\"B[:,:,3] = \")\n",
        "print(B[:,:,3])\n",
        "### END CODE HERE ###"
      ]
    },
    {
      "cell_type": "markdown",
      "metadata": {
        "id": "220LTscL51uq"
      },
      "source": [
        "## Transposing \n",
        ">Transpose the array B elements in each slice. Then print the result."
      ]
    },
    {
      "cell_type": "code",
      "execution_count": null,
      "metadata": {
        "id": "aNMAlnaC51uq",
        "outputId": "0ac6865e-9156-496c-e9d2-a3af8316d14a"
      },
      "outputs": [
        {
          "name": "stdout",
          "output_type": "stream",
          "text": [
            "B[:,:, 0 ]\n",
            "[[10.  5.  1.]\n",
            " [20. 10.  5.]\n",
            " [30. 15.  8.]]\n",
            "B[:,:, 1 ]\n",
            "[[ 60.  65.  70.]\n",
            " [ 75.  80.  85.]\n",
            " [ 90.  95. 100.]]\n",
            "B[:,:, 2 ]\n",
            "[[105. 110. 115.]\n",
            " [120. 125. 130.]\n",
            " [135. 140. 145.]]\n",
            "B[:,:, 3 ]\n",
            "[[15. 20. 25.]\n",
            " [30. 35. 40.]\n",
            " [45. 50. 55.]]\n"
          ]
        }
      ],
      "source": [
        "### START CODE HERE ###\n",
        "for i in range(4):\n",
        "    B[:,:,i] = np.transpose(B[:,:,i])\n",
        "    print(\"B[:,:,\",i,\"]\")\n",
        "    print(B[:,:,i])\n",
        "### END CODE HERE ###"
      ]
    },
    {
      "cell_type": "markdown",
      "metadata": {
        "id": "xYFuQ6_H51uq"
      },
      "source": [
        "## Matrix Multiplication\n",
        ">Calculate the matrix multiplication of all slices of the array B. \n",
        "(B[:, :, 0] \\* B[:, :, 1] \\* B[:, :, 2] \\* B[:, :, 3]). Then print the result.\n",
        "\n",
        ">**Note**: the result should be a 3\\*3 array. "
      ]
    },
    {
      "cell_type": "code",
      "execution_count": null,
      "metadata": {
        "id": "HfQRENtP51uq",
        "outputId": "5f3c0e19-7cb1-4df6-8743-6a46c0d679dc"
      },
      "outputs": [
        {
          "name": "stdout",
          "output_type": "stream",
          "text": [
            "[[3.93750000e+07 4.58516250e+07 5.23282500e+07]\n",
            " [8.85375000e+07 1.03100625e+08 1.17663750e+08]\n",
            " [1.34437500e+08 1.56550500e+08 1.78663500e+08]]\n"
          ]
        }
      ],
      "source": [
        "### START CODE HERE ###\n",
        "Mult = np.matmul(np.matmul(B[:,:,0],B[:,:,1]),np.matmul(B[:,:,2],B[:,:,3]))\n",
        "print(Mult)\n",
        "### END CODE HERE ###"
      ]
    },
    {
      "cell_type": "markdown",
      "metadata": {
        "id": "T-aKILXl51uq"
      },
      "source": [
        "## Determinant\n",
        ">Calculate the determinant of the array A and print it."
      ]
    },
    {
      "cell_type": "code",
      "execution_count": null,
      "metadata": {
        "id": "IuIyFxIb51ur",
        "outputId": "b968603d-91e6-4b58-96ae-d03f94dc0295"
      },
      "outputs": [
        {
          "name": "stdout",
          "output_type": "stream",
          "text": [
            "0.0\n"
          ]
        }
      ],
      "source": [
        "### START CODE HERE ###\n",
        "det = np.linalg.det(A)\n",
        "print(det)\n",
        "### END CODE HERE ###"
      ]
    },
    {
      "cell_type": "markdown",
      "metadata": {
        "id": "dUxqZ--i51ur"
      },
      "source": [
        "# Question 2"
      ]
    },
    {
      "cell_type": "markdown",
      "metadata": {
        "id": "tVorf1Zj51ur"
      },
      "source": [
        "## Loading dataset\n",
        ">Load the IMDB-Movie-Data.csv file into a pandas dataframe and show its first 5 rows. Each row of this dataframe corresponds to one film."
      ]
    },
    {
      "cell_type": "code",
      "execution_count": null,
      "metadata": {
        "id": "8smmfTdSI_yq"
      },
      "outputs": [],
      "source": [
        "import pandas as pd"
      ]
    },
    {
      "cell_type": "code",
      "execution_count": null,
      "metadata": {
        "id": "dIsa36yi51ur",
        "outputId": "10f4743f-7874-4231-a252-879f879cbc97"
      },
      "outputs": [
        {
          "data": {
            "text/html": [
              "<div>\n",
              "<style scoped>\n",
              "    .dataframe tbody tr th:only-of-type {\n",
              "        vertical-align: middle;\n",
              "    }\n",
              "\n",
              "    .dataframe tbody tr th {\n",
              "        vertical-align: top;\n",
              "    }\n",
              "\n",
              "    .dataframe thead th {\n",
              "        text-align: right;\n",
              "    }\n",
              "</style>\n",
              "<table border=\"1\" class=\"dataframe\">\n",
              "  <thead>\n",
              "    <tr style=\"text-align: right;\">\n",
              "      <th></th>\n",
              "      <th>Rank</th>\n",
              "      <th>Title</th>\n",
              "      <th>Genre</th>\n",
              "      <th>Description</th>\n",
              "      <th>Director</th>\n",
              "      <th>Actors</th>\n",
              "      <th>Year</th>\n",
              "      <th>Runtime (Minutes)</th>\n",
              "      <th>Rating</th>\n",
              "      <th>Votes</th>\n",
              "      <th>Revenue (Millions)</th>\n",
              "      <th>Metascore</th>\n",
              "    </tr>\n",
              "  </thead>\n",
              "  <tbody>\n",
              "    <tr>\n",
              "      <th>0</th>\n",
              "      <td>1</td>\n",
              "      <td>Guardians of the Galaxy</td>\n",
              "      <td>Action,Adventure,Sci-Fi</td>\n",
              "      <td>A group of intergalactic criminals are forced ...</td>\n",
              "      <td>James Gunn</td>\n",
              "      <td>Chris Pratt, Vin Diesel, Bradley Cooper, Zoe S...</td>\n",
              "      <td>2014</td>\n",
              "      <td>121</td>\n",
              "      <td>8.1</td>\n",
              "      <td>757074</td>\n",
              "      <td>333.13</td>\n",
              "      <td>76.0</td>\n",
              "    </tr>\n",
              "    <tr>\n",
              "      <th>1</th>\n",
              "      <td>2</td>\n",
              "      <td>Prometheus</td>\n",
              "      <td>Adventure,Mystery,Sci-Fi</td>\n",
              "      <td>Following clues to the origin of mankind, a te...</td>\n",
              "      <td>Ridley Scott</td>\n",
              "      <td>Noomi Rapace, Logan Marshall-Green, Michael Fa...</td>\n",
              "      <td>2012</td>\n",
              "      <td>124</td>\n",
              "      <td>7.0</td>\n",
              "      <td>485820</td>\n",
              "      <td>126.46</td>\n",
              "      <td>65.0</td>\n",
              "    </tr>\n",
              "    <tr>\n",
              "      <th>2</th>\n",
              "      <td>3</td>\n",
              "      <td>Split</td>\n",
              "      <td>Horror,Thriller</td>\n",
              "      <td>Three girls are kidnapped by a man with a diag...</td>\n",
              "      <td>M. Night Shyamalan</td>\n",
              "      <td>James McAvoy, Anya Taylor-Joy, Haley Lu Richar...</td>\n",
              "      <td>2016</td>\n",
              "      <td>117</td>\n",
              "      <td>7.3</td>\n",
              "      <td>157606</td>\n",
              "      <td>138.12</td>\n",
              "      <td>62.0</td>\n",
              "    </tr>\n",
              "    <tr>\n",
              "      <th>3</th>\n",
              "      <td>4</td>\n",
              "      <td>Sing</td>\n",
              "      <td>Animation,Comedy,Family</td>\n",
              "      <td>In a city of humanoid animals, a hustling thea...</td>\n",
              "      <td>Christophe Lourdelet</td>\n",
              "      <td>Matthew McConaughey,Reese Witherspoon, Seth Ma...</td>\n",
              "      <td>2016</td>\n",
              "      <td>108</td>\n",
              "      <td>7.2</td>\n",
              "      <td>60545</td>\n",
              "      <td>270.32</td>\n",
              "      <td>59.0</td>\n",
              "    </tr>\n",
              "    <tr>\n",
              "      <th>4</th>\n",
              "      <td>5</td>\n",
              "      <td>Suicide Squad</td>\n",
              "      <td>Action,Adventure,Fantasy</td>\n",
              "      <td>A secret government agency recruits some of th...</td>\n",
              "      <td>David Ayer</td>\n",
              "      <td>Will Smith, Jared Leto, Margot Robbie, Viola D...</td>\n",
              "      <td>2016</td>\n",
              "      <td>123</td>\n",
              "      <td>6.2</td>\n",
              "      <td>393727</td>\n",
              "      <td>325.02</td>\n",
              "      <td>40.0</td>\n",
              "    </tr>\n",
              "  </tbody>\n",
              "</table>\n",
              "</div>"
            ],
            "text/plain": [
              "   Rank                    Title                     Genre  \\\n",
              "0     1  Guardians of the Galaxy   Action,Adventure,Sci-Fi   \n",
              "1     2               Prometheus  Adventure,Mystery,Sci-Fi   \n",
              "2     3                    Split           Horror,Thriller   \n",
              "3     4                     Sing   Animation,Comedy,Family   \n",
              "4     5            Suicide Squad  Action,Adventure,Fantasy   \n",
              "\n",
              "                                         Description              Director  \\\n",
              "0  A group of intergalactic criminals are forced ...            James Gunn   \n",
              "1  Following clues to the origin of mankind, a te...          Ridley Scott   \n",
              "2  Three girls are kidnapped by a man with a diag...    M. Night Shyamalan   \n",
              "3  In a city of humanoid animals, a hustling thea...  Christophe Lourdelet   \n",
              "4  A secret government agency recruits some of th...            David Ayer   \n",
              "\n",
              "                                              Actors  Year  Runtime (Minutes)  \\\n",
              "0  Chris Pratt, Vin Diesel, Bradley Cooper, Zoe S...  2014                121   \n",
              "1  Noomi Rapace, Logan Marshall-Green, Michael Fa...  2012                124   \n",
              "2  James McAvoy, Anya Taylor-Joy, Haley Lu Richar...  2016                117   \n",
              "3  Matthew McConaughey,Reese Witherspoon, Seth Ma...  2016                108   \n",
              "4  Will Smith, Jared Leto, Margot Robbie, Viola D...  2016                123   \n",
              "\n",
              "   Rating   Votes  Revenue (Millions)  Metascore  \n",
              "0     8.1  757074              333.13       76.0  \n",
              "1     7.0  485820              126.46       65.0  \n",
              "2     7.3  157606              138.12       62.0  \n",
              "3     7.2   60545              270.32       59.0  \n",
              "4     6.2  393727              325.02       40.0  "
            ]
          },
          "execution_count": 2,
          "metadata": {},
          "output_type": "execute_result"
        }
      ],
      "source": [
        "### START CODE HERE ###\n",
        "IMDB_Data = pd.read_csv(\"IMDB-Movie-Data.csv\")\n",
        "IMDB_Data[0:5]\n",
        "### END CODE HERE ###"
      ]
    },
    {
      "cell_type": "markdown",
      "metadata": {
        "id": "pgDvllsV51ur"
      },
      "source": [
        "## Actors/Actresses Activity\n",
        ">For each Actors/Actresses caculate the number of movies in the dataframe, then sort the actors/actresses first by their number of movies in descending order and then by their name in ascending order. "
      ]
    },
    {
      "cell_type": "code",
      "execution_count": null,
      "metadata": {
        "id": "GfB9w9UO51ur",
        "outputId": "1eb599ef-a8fc-44f3-ce38-434bd5bcb120"
      },
      "outputs": [
        {
          "name": "stdout",
          "output_type": "stream",
          "text": [
            "                       Name  Repetition\n",
            "0             Mark Wahlberg          15\n",
            "1              Hugh Jackman          14\n",
            "2                 Brad Pitt          13\n",
            "3            Christian Bale          13\n",
            "4             Anne Hathaway          12\n",
            "...                     ...         ...\n",
            "1980       Zachery Ty Bryan           1\n",
            "1981              Zoe Kazan           1\n",
            "1982         Émilie Leclerc           1\n",
            "1983  Ólafur Darri Ólafsson           1\n",
            "1984          Óscar Jaenada           1\n",
            "\n",
            "[1985 rows x 2 columns]\n"
          ]
        }
      ],
      "source": [
        "### START CODE HERE ###\n",
        "Data_Copy = IMDB_Data.copy()\n",
        "ActorsList = Data_Copy['Actors'].values\n",
        "AllActorName = []\n",
        "AllActor = []\n",
        "for x in ActorsList:\n",
        "    new = x.split(\",\")\n",
        "    for y in new:\n",
        "        AllActor.append(y)\n",
        "for x in AllActor:\n",
        "    AllActorName.append(x.strip())\n",
        "\n",
        "NewList = []\n",
        "Names = []\n",
        "for x in AllActorName:\n",
        "    x = x.strip()\n",
        "    if Names.count(x) == 0:\n",
        "        Names.append(x)\n",
        "        tup = (x,AllActorName.count(x))\n",
        "        NewList.append(tup)\n",
        "FinalList = sorted(NewList, key=lambda x: (x[0]))\n",
        "FinalList = sorted(FinalList, key=lambda x: (x[1]),reverse = True)\n",
        "df = pd.DataFrame.from_records(FinalList, columns =['Name', 'Repetition'])\n",
        "print(df)\n",
        "### END CODE HERE ###"
      ]
    },
    {
      "cell_type": "markdown",
      "metadata": {
        "id": "U8qu6f7d51ur"
      },
      "source": [
        "## Score Histogram\n",
        ">Draw the histogram of metascores and ratings. "
      ]
    },
    {
      "cell_type": "code",
      "execution_count": null,
      "metadata": {
        "id": "JUf-Jl6T51ur",
        "outputId": "90511dbd-0722-4ff1-8918-6fb8321a8574"
      },
      "outputs": [
        {
          "data": {
            "text/plain": [
              "(array([  1.,   3.,   8.,  20.,  55., 154., 283., 281., 172.,  23.]),\n",
              " array([1.9 , 2.61, 3.32, 4.03, 4.74, 5.45, 6.16, 6.87, 7.58, 8.29, 9.  ]),\n",
              " <BarContainer object of 10 artists>)"
            ]
          },
          "execution_count": 22,
          "metadata": {},
          "output_type": "execute_result"
        },
        {
          "data": {
            "image/png": "[encoded data removed]",
            "text/plain": [
              "<Figure size 432x288 with 2 Axes>"
            ]
          },
          "metadata": {
            "needs_background": "light"
          },
          "output_type": "display_data"
        }
      ],
      "source": [
        "### START CODE HERE ###\n",
        "import matplotlib.pyplot as plt\n",
        "MetaScores = IMDB_Data['Metascore'].values\n",
        "plt.subplot(1, 2, 1)\n",
        "plt.title(\"Metascore\")\n",
        "plt.hist(MetaScores)\n",
        "\n",
        "Rating = IMDB_Data['Rating'].values\n",
        "plt.subplot(1, 2, 2)\n",
        "plt.title(\"Rating\")\n",
        "plt.hist(Rating)\n",
        "### END CODE HERE ###"
      ]
    },
    {
      "cell_type": "markdown",
      "metadata": {
        "id": "_fD8olon51ur"
      },
      "source": [
        "## Correlations\n",
        ">Calculate the correlation between rating, votes and metascore of the movies.\n",
        "Is there any meaningful relation between these features? "
      ]
    },
    {
      "cell_type": "code",
      "execution_count": null,
      "metadata": {
        "id": "4Llb2din51ur",
        "outputId": "2b26ba32-3c7e-49e0-9c3a-e13437352dc2"
      },
      "outputs": [
        {
          "name": "stdout",
          "output_type": "stream",
          "text": [
            "Correlation of Rating and Votes :  0.5115373197657556\n",
            "Correlation of Rating and Metascore :  0.6318965100387073\n",
            "Correlation of Rating and Votes :  0.3256838085336564\n"
          ]
        }
      ],
      "source": [
        "### START CODE HERE ###\n",
        "\n",
        "print(\"Correlation of Rating and Votes : \",IMDB_Data['Rating'].corr(IMDB_Data['Votes']))\n",
        "print(\"Correlation of Rating and Metascore : \",IMDB_Data['Rating'].corr(IMDB_Data['Metascore']))\n",
        "print(\"Correlation of Rating and Votes : \",IMDB_Data['Metascore'].corr(IMDB_Data['Votes']))\n",
        "### END CODE HERE ###"
      ]
    },
    {
      "cell_type": "markdown",
      "metadata": {
        "id": "93eb7WzlI_ys"
      },
      "source": [
        "### There is relation between Rating and Metascore which is True because both of them are Scores of movie"
      ]
    },
    {
      "cell_type": "markdown",
      "metadata": {
        "id": "kLHzx8KW51ur"
      },
      "source": [
        "# Question 3"
      ]
    },
    {
      "cell_type": "markdown",
      "metadata": {
        "id": "xQMEJJVI51ur"
      },
      "source": [
        "## File\n",
        "> Craet a .txt file and name it \"Name_actors\". You must write the name of all actors/actresses in the IMDB-Movie-Data.csv file. Don't write a name multiple time and write each name in a new line."
      ]
    },
    {
      "cell_type": "code",
      "execution_count": null,
      "metadata": {
        "id": "li8flG_251us"
      },
      "outputs": [],
      "source": [
        "### START CODE HERE ###\n",
        "f = open(\"Name_actors.txt\", \"w\")\n",
        "List = df['Name'].values\n",
        "for x in List:\n",
        "    f.write(x+'\\n')\n",
        "\n",
        "### END CODE HERE ###"
      ]
    },
    {
      "cell_type": "markdown",
      "metadata": {
        "id": "oXpoTAa-51us"
      },
      "source": [
        "# Question 4"
      ]
    },
    {
      "cell_type": "markdown",
      "metadata": {
        "id": "-l8ephAz51us"
      },
      "source": [
        "## Plot\n",
        ">You must plot the number of movies in each year according to the IMDB-Movie-Data.csv file. X-axis is year and y-axis show the number of movies in each year.\n",
        "> set the x_label, y_label and title for your plot."
      ]
    },
    {
      "cell_type": "code",
      "execution_count": null,
      "metadata": {
        "id": "pVgfjlk_51us",
        "outputId": "f1cbdfc4-8846-43f5-e5d4-78c6c1d4a535"
      },
      "outputs": [
        {
          "name": "stdout",
          "output_type": "stream",
          "text": [
            "[(2006, 44), (2009, 51), (2008, 52), (2007, 53), (2010, 60), (2011, 63), (2012, 64), (2013, 91), (2014, 98), (2015, 127), (2016, 297)]\n",
            "(2006, 2009, 2008, 2007, 2010, 2011, 2012, 2013, 2014, 2015, 2016)\n",
            "(44, 51, 52, 53, 60, 63, 64, 91, 98, 127, 297)\n"
          ]
        },
        {
          "data": {
            "image/png": "[encoded data removed]",
            "text/plain": [
              "<Figure size 432x288 with 1 Axes>"
            ]
          },
          "metadata": {
            "needs_background": "light"
          },
          "output_type": "display_data"
        }
      ],
      "source": [
        "### START CODE HERE ###\n",
        "IMDB_Data = pd.read_csv(\"IMDB-Movie-Data.csv\")\n",
        "YearList = Data_Copy['Year'].values.tolist()\n",
        "\n",
        "Year = []\n",
        "Num = []\n",
        "for x in YearList:\n",
        "    if Year.count(x) == 0:\n",
        "        Year.append(x)\n",
        "        tup = (x,YearList.count(x))\n",
        "        Num.append(tup)\n",
        "FinalNum = sorted(Num, key=lambda x: (x[1]))\n",
        "print(FinalNum)\n",
        "Years, Number = zip(*FinalNum)\n",
        "print(Years)\n",
        "print(Number)\n",
        "\n",
        "plt.scatter(Years, Number)\n",
        "plt.title(\"Number of movies in each year\")\n",
        "plt.ylabel(\"Number\")\n",
        "plt.xlabel(\"Year\")\n",
        "plt.show()\n",
        "\n",
        "### END CODE HERE ###"
      ]
    },
    {
      "cell_type": "markdown",
      "metadata": {
        "id": "-xaIS92c51us"
      },
      "source": [
        "## Plot\n",
        ">You must plot the cos(x) curve. plot 20 cycle of the curve. the frequency of first half of curve is 50 Hz and frequency of second lalf is 200 Hz. \n",
        "> set the x_label, y_label and title for your plot."
      ]
    },
    {
      "cell_type": "code",
      "execution_count": null,
      "metadata": {
        "id": "5VhGTsTw51us",
        "outputId": "900b5fa3-0e25-4df5-ad54-d56a9130a61e"
      },
      "outputs": [
        {
          "data": {
            "image/png": "[encoded data removed]",
            "text/plain": [
              "<Figure size 432x288 with 1 Axes>"
            ]
          },
          "metadata": {
            "needs_background": "light"
          },
          "output_type": "display_data"
        }
      ],
      "source": [
        "### START CODE HERE ###\n",
        "x1 = np.arange(0, 0.2, 0.00001)\n",
        "y1 = np.cos(2*np.pi*50*x1)\n",
        "x2 = np.arange(0.2, 0.25, 0.0001)\n",
        "y2 = np.cos(2*np.pi*200*x2)\n",
        "x = np.append(x1, x2)\n",
        "y = np.append(y1, y2)\n",
        "\n",
        "plt.plot(x,y)\n",
        "plt.show()\n",
        "\n",
        "### END CODE HERE ###"
      ]
    }
  ],
  "metadata": {
    "colab": {
      "provenance": [],
      "include_colab_link": true
    },
    "interpreter": {
      "hash": "d8283cc4fef7fdfd79fce9ff4c59fb46bb636ce565bf5e011ed8cd98646ea4d5"
    },
    "kernelspec": {
      "display_name": "Python 3",
      "language": "python",
      "name": "python3"
    },
    "language_info": {
      "codemirror_mode": {
        "name": "ipython",
        "version": 3
      },
      "file_extension": ".py",
      "mimetype": "text/x-python",
      "name": "python",
      "nbconvert_exporter": "python",
      "pygments_lexer": "ipython3",
      "version": "3.8.8"
    }
  },
  "nbformat": 4,
  "nbformat_minor": 0
}